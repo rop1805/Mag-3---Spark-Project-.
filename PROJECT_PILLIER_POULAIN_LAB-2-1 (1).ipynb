{
 "cells": [
  {
   "cell_type": "markdown",
   "metadata": {},
   "source": [
    "# Step 1 : merging gas prices files. "
   ]
  },
  {
   "cell_type": "markdown",
   "metadata": {},
   "source": [
    "Here we import all libraries and tools for the project. "
   ]
  },
  {
   "cell_type": "code",
   "execution_count": 1,
   "metadata": {},
   "outputs": [],
   "source": [
    "import pyspark"
   ]
  },
  {
   "cell_type": "code",
   "execution_count": 2,
   "metadata": {},
   "outputs": [],
   "source": [
    "import os"
   ]
  },
  {
   "cell_type": "code",
   "execution_count": 3,
   "metadata": {},
   "outputs": [
    {
     "name": "stderr",
     "output_type": "stream",
     "text": [
      "C:\\Users\\romai\\Anaconda3\\lib\\site-packages\\statsmodels\\compat\\pandas.py:56: FutureWarning: The pandas.core.datetools module is deprecated and will be removed in a future version. Please use the pandas.tseries module instead.\n",
      "  from pandas.core import datetools\n"
     ]
    }
   ],
   "source": [
    "import pandas as pd\n",
    "import numpy as np\n",
    "import glob\n",
    "import sqlite3\n",
    "\n",
    "import matplotlib.pyplot as plt\n",
    "import seaborn as sns\n",
    "%matplotlib inline\n",
    "\n",
    "from sklearn.feature_extraction.text import CountVectorizer\n",
    "from sklearn.linear_model import LinearRegression\n",
    "from sklearn.ensemble import RandomForestRegressor\n",
    "import statsmodels.api as sm"
   ]
  },
  {
   "cell_type": "code",
   "execution_count": null,
   "metadata": {},
   "outputs": [],
   "source": [
    "sc = pyspark.SparkContext()"
   ]
  },
  {
   "cell_type": "code",
   "execution_count": null,
   "metadata": {},
   "outputs": [],
   "source": [
    "sc._conf.getAll()"
   ]
  },
  {
   "cell_type": "code",
   "execution_count": null,
   "metadata": {},
   "outputs": [],
   "source": [
    "sqlsc = pyspark.SQLContext(sc)"
   ]
  },
  {
   "cell_type": "code",
   "execution_count": null,
   "metadata": {},
   "outputs": [],
   "source": [
    "spark = sqlsc.sparkSession"
   ]
  },
  {
   "cell_type": "markdown",
   "metadata": {},
   "source": [
    "We load all price's dataframes from 2015 to 2018."
   ]
  },
  {
   "cell_type": "code",
   "execution_count": null,
   "metadata": {},
   "outputs": [],
   "source": [
    "prix15_df = spark.read.load(r'C:\\Users\\romai\\Documents\\Prix2015.csv', format='csv', sep=';', header='false', inferSchema='true')"
   ]
  },
  {
   "cell_type": "code",
   "execution_count": 9,
   "metadata": {},
   "outputs": [],
   "source": [
    "prix16_df = spark.read.load(r'C:\\Users\\romai\\Documents\\Prix2016.csv', format='csv', sep=';', header='false', inferSchema='true')"
   ]
  },
  {
   "cell_type": "code",
   "execution_count": 10,
   "metadata": {},
   "outputs": [],
   "source": [
    "prix17_df = spark.read.load(r'C:\\Users\\romai\\Documents\\Prix2017.csv', format='csv', sep=';', header='false', inferSchema='true')"
   ]
  },
  {
   "cell_type": "code",
   "execution_count": 11,
   "metadata": {},
   "outputs": [],
   "source": [
    "prix18_df = spark.read.load(r'C:\\Users\\romai\\Documents\\Prix2018.csv', format='csv', sep=';', header='false', inferSchema='true')"
   ]
  },
  {
   "cell_type": "markdown",
   "metadata": {},
   "source": [
    "We then merge files to create a more general one."
   ]
  },
  {
   "cell_type": "code",
   "execution_count": 12,
   "metadata": {},
   "outputs": [],
   "source": [
    "prix_df=prix15_df.union(prix16_df).union(prix17_df).union(prix18_df)"
   ]
  },
  {
   "cell_type": "code",
   "execution_count": 12,
   "metadata": {},
   "outputs": [
    {
     "name": "stdout",
     "output_type": "stream",
     "text": [
      "+-------+----+---+---------+--------+-------------------+---+------+----+\n",
      "|    _c0| _c1|_c2|      _c3|     _c4|                _c5|_c6|   _c7| _c8|\n",
      "+-------+----+---+---------+--------+-------------------+---+------+----+\n",
      "|1000001|1000|  R|4620114.0|519791.0|2015-01-02 11:01:45|  1|Gazole|1141|\n",
      "|1000001|1000|  R|4620114.0|519791.0|2015-01-03 09:01:42|  1|Gazole|1141|\n",
      "|1000001|1000|  R|4620114.0|519791.0|2015-01-07 10:01:44|  1|Gazole|1141|\n",
      "|1000001|1000|  R|4620114.0|519791.0|2015-01-08 10:01:06|  1|Gazole|1115|\n",
      "|1000001|1000|  R|4620114.0|519791.0|2015-01-09 10:01:19|  1|Gazole|1115|\n",
      "+-------+----+---+---------+--------+-------------------+---+------+----+\n",
      "only showing top 5 rows\n",
      "\n"
     ]
    }
   ],
   "source": [
    "prix_df.show(5)"
   ]
  },
  {
   "cell_type": "code",
   "execution_count": 13,
   "metadata": {},
   "outputs": [],
   "source": [
    "from pyspark.sql.functions import to_date, date_format"
   ]
  },
  {
   "cell_type": "markdown",
   "metadata": {},
   "source": [
    "We split date in, year, month, week. "
   ]
  },
  {
   "cell_type": "code",
   "execution_count": 14,
   "metadata": {},
   "outputs": [],
   "source": [
    "prix_df = prix_df.withColumn(\"year\", date_format(to_date(\"_c5\", \"yyyy-MM-dd\"), \"y\"))\n",
    "prix_df = prix_df.withColumn(\"month\", date_format(to_date(\"_c5\", \"yyyy-MM-dd\"), \"M\"))\n",
    "prix_df = prix_df.withColumn(\"week\", date_format(to_date(\"_c5\", \"yyyy-MM-dd\"), \"w\"))"
   ]
  },
  {
   "cell_type": "code",
   "execution_count": 15,
   "metadata": {},
   "outputs": [],
   "source": [
    "prix_df = prix_df.selectExpr(\n",
    "    '_c0 as id_station', \n",
    "    '_c1 as zipcode',\n",
    "    '_c2 as type_pop',\n",
    "    '_c3/100000 as latitude',\n",
    "    '_c4/100000 as longitude',\n",
    "    '_c5 as date',\n",
    "    '_c6 as gas_type',\n",
    "    '_c7 as gas_label',\n",
    "    '_c8/1000 as price',\n",
    "    'year',\n",
    "    'month',\n",
    "    'week'\n",
    ")"
   ]
  },
  {
   "cell_type": "code",
   "execution_count": 17,
   "metadata": {},
   "outputs": [
    {
     "data": {
      "text/plain": [
       "5140"
      ]
     },
     "execution_count": 17,
     "metadata": {},
     "output_type": "execute_result"
    }
   ],
   "source": [
    "prix_df.filter(prix_df[\"latitude\"].isNull()).count()"
   ]
  },
  {
   "cell_type": "code",
   "execution_count": 16,
   "metadata": {},
   "outputs": [],
   "source": [
    "sqlsc.registerDataFrameAsTable(prix_df, 'table_prix')"
   ]
  },
  {
   "cell_type": "code",
   "execution_count": 18,
   "metadata": {},
   "outputs": [
    {
     "name": "stdout",
     "output_type": "stream",
     "text": [
      "+--------+\n",
      "|count(1)|\n",
      "+--------+\n",
      "| 8308360|\n",
      "+--------+\n",
      "\n"
     ]
    }
   ],
   "source": [
    "sqlsc.sql('SELECT count(*) FROM table_prix').show()"
   ]
  },
  {
   "cell_type": "markdown",
   "metadata": {},
   "source": [
    "# Step 2 : deduplicating stations."
   ]
  },
  {
   "cell_type": "markdown",
   "metadata": {},
   "source": [
    "We import stations files and merge them."
   ]
  },
  {
   "cell_type": "code",
   "execution_count": 17,
   "metadata": {},
   "outputs": [],
   "source": [
    "stations16_df = spark.read.load(r'C:\\Users\\romai\\Documents\\Stations2016.csv', format='csv', \n",
    "                               sep='|', header='false', inferSchema='true', PYTHONIOENCODING='utf-8')"
   ]
  },
  {
   "cell_type": "code",
   "execution_count": 18,
   "metadata": {},
   "outputs": [],
   "source": [
    "stations17_df = spark.read.load(r'C:\\Users\\romai\\Documents\\Stations2017.csv', format='csv', \n",
    "                               sep='|', header='false', inferSchema='true', PYTHONIOENCODING='utf-8')"
   ]
  },
  {
   "cell_type": "code",
   "execution_count": 19,
   "metadata": {},
   "outputs": [],
   "source": [
    "stations18_df = spark.read.load(r'C:\\Users\\romai\\Documents\\Stations2018.csv', format='csv', \n",
    "                               sep='|', header='false', inferSchema='true', PYTHONIOENCODING='utf-8')"
   ]
  },
  {
   "cell_type": "code",
   "execution_count": 20,
   "metadata": {},
   "outputs": [],
   "source": [
    "stations_df=stations16_df.union(stations17_df).union(stations18_df)"
   ]
  },
  {
   "cell_type": "code",
   "execution_count": 21,
   "metadata": {},
   "outputs": [],
   "source": [
    "stations_df = stations_df.selectExpr(\n",
    "    '_c0 as id_station', \n",
    "    '_c1 as zipcode',\n",
    "    '_c2 as type_pop',\n",
    "    '_c3/100000 as latitude',\n",
    "    '_c4/100000 as longitude',\n",
    "    '_c5 as address',\n",
    "    '_c6 as city',\n",
    ")"
   ]
  },
  {
   "cell_type": "code",
   "execution_count": 22,
   "metadata": {},
   "outputs": [
    {
     "data": {
      "text/plain": [
       "238"
      ]
     },
     "execution_count": 22,
     "metadata": {},
     "output_type": "execute_result"
    }
   ],
   "source": [
    "stations_df.filter(stations_df[\"latitude\"].isNull()).count()"
   ]
  },
  {
   "cell_type": "code",
   "execution_count": 23,
   "metadata": {},
   "outputs": [
    {
     "data": {
      "text/plain": [
       "0"
      ]
     },
     "execution_count": 23,
     "metadata": {},
     "output_type": "execute_result"
    }
   ],
   "source": [
    "stations_df.filter(stations_df[\"address\"].isNull()).count()"
   ]
  },
  {
   "cell_type": "code",
   "execution_count": 24,
   "metadata": {},
   "outputs": [
    {
     "data": {
      "text/plain": [
       "235"
      ]
     },
     "execution_count": 24,
     "metadata": {},
     "output_type": "execute_result"
    }
   ],
   "source": [
    "stations_df.filter(stations_df[\"longitude\"].isNull()).count()"
   ]
  },
  {
   "cell_type": "code",
   "execution_count": 25,
   "metadata": {},
   "outputs": [],
   "source": [
    "stations_df = stations_df.filter(stations_df.latitude.isNotNull())"
   ]
  },
  {
   "cell_type": "code",
   "execution_count": 26,
   "metadata": {},
   "outputs": [],
   "source": [
    "stations_df = stations_df.filter(stations_df.longitude.isNotNull())"
   ]
  },
  {
   "cell_type": "code",
   "execution_count": 27,
   "metadata": {},
   "outputs": [
    {
     "data": {
      "text/plain": [
       "0"
      ]
     },
     "execution_count": 27,
     "metadata": {},
     "output_type": "execute_result"
    }
   ],
   "source": [
    "stations_df.filter(stations_df[\"latitude\"].isNull()).count()"
   ]
  },
  {
   "cell_type": "code",
   "execution_count": 28,
   "metadata": {},
   "outputs": [
    {
     "data": {
      "text/plain": [
       "0"
      ]
     },
     "execution_count": 28,
     "metadata": {},
     "output_type": "execute_result"
    }
   ],
   "source": [
    "stations_df.filter(stations_df[\"longitude\"].isNull()).count()"
   ]
  },
  {
   "cell_type": "code",
   "execution_count": 29,
   "metadata": {},
   "outputs": [],
   "source": [
    "stations_df.count()"
   ]
  },
  {
   "cell_type": "markdown",
   "metadata": {},
   "source": [
    "We deduplicate stations based on location."
   ]
  },
  {
   "cell_type": "code",
   "execution_count": 30,
   "metadata": {},
   "outputs": [],
   "source": [
    "stations_df = stations_df.dropDuplicates(['latitude', 'longitude', 'id_station'])"
   ]
  },
  {
   "cell_type": "markdown",
   "metadata": {},
   "source": [
    "We group by stations by selected deduplication keys and generate a unique ID."
   ]
  },
  {
   "cell_type": "code",
   "execution_count": 31,
   "metadata": {},
   "outputs": [],
   "source": [
    "unique_df = stations_df.groupBy(['latitude','longitude']).agg({'id_station' : 'max'})"
   ]
  },
  {
   "cell_type": "code",
   "execution_count": 32,
   "metadata": {},
   "outputs": [],
   "source": [
    "unique_df = unique_df.select(pyspark.sql.functions.col(\"latitude\").alias(\"latitude\"), pyspark.sql.functions.col(\"longitude\").alias(\"longitude\"), \n",
    "                         pyspark.sql.functions.col(\"max(id_station)\").alias(\"id_unique\"))"
   ]
  },
  {
   "cell_type": "code",
   "execution_count": 34,
   "metadata": {},
   "outputs": [
    {
     "name": "stdout",
     "output_type": "stream",
     "text": [
      "+------------------+-------------------+---------+\n",
      "|          latitude|          longitude|id_unique|\n",
      "+------------------+-------------------+---------+\n",
      "|          48.53901|           -2.98844| 22170003|\n",
      "|          5.672E-5|          4.6325E-4|  1590002|\n",
      "|          44.91366|            4.44244|  7160003|\n",
      "|            48.978|              6.026| 54530002|\n",
      "|          45.00888|0.15155000000003999| 24700001|\n",
      "|            46.973|             -2.239| 85680001|\n",
      "|     43.7043567908|      1.80005500095| 81500004|\n",
      "|       49.06503644|        -1.19698905| 50750001|\n",
      "|          43.21566|             2.3546| 11000012|\n",
      "|          43.41718|            6.77602| 83700007|\n",
      "|          46.56141|            0.31494| 86000013|\n",
      "|50.483911375599995|      2.40352097875| 62550001|\n",
      "|            43.293|              0.515| 65230002|\n",
      "|         -4.053E-5|          4.7999E-4| 29500003|\n",
      "|          43.92849|            4.93805| 84470001|\n",
      "|          49.04791|            2.20149| 95740005|\n",
      "|          49.00541|            2.39731| 95400007|\n",
      "|            43.203|              2.443| 11800002|\n",
      "|       47.88999935|         6.99083252| 68470002|\n",
      "|            48.196|             -4.091| 29150004|\n",
      "+------------------+-------------------+---------+\n",
      "only showing top 20 rows\n",
      "\n"
     ]
    }
   ],
   "source": [
    "unique_df.show()"
   ]
  },
  {
   "cell_type": "code",
   "execution_count": 41,
   "metadata": {},
   "outputs": [
    {
     "data": {
      "text/plain": [
       "16962"
      ]
     },
     "execution_count": 41,
     "metadata": {},
     "output_type": "execute_result"
    }
   ],
   "source": [
    "unique_df.count()"
   ]
  },
  {
   "cell_type": "code",
   "execution_count": 33,
   "metadata": {},
   "outputs": [],
   "source": [
    "stations_df = stations_df.join(unique_df, on=['latitude', 'longitude'], how='left_outer')"
   ]
  },
  {
   "cell_type": "code",
   "execution_count": 37,
   "metadata": {},
   "outputs": [
    {
     "name": "stdout",
     "output_type": "stream",
     "text": [
      "+--------------------+-------------+----------+-------+--------+--------------------+--------------------+---------+\n",
      "|            latitude|    longitude|id_station|zipcode|type_pop|             address|                city|id_unique|\n",
      "+--------------------+-------------+----------+-------+--------+--------------------+--------------------+---------+\n",
      "|1.034000000000000...|    4.9451E-4|  76380005|  76380|       R|     rue de Montigny|            CANTELEU| 76380005|\n",
      "|            2.541E-5|    5.0544E-4|  62920001|  62920|       R|    14 Rue Nationale|            CHOCQUES| 62920001|\n",
      "|5.022000000000000...|    4.3642E-4|  13626001|  13300|       R|    Route de Miramas|   SALON-DE-PROVENCE| 13626001|\n",
      "|            6.817E-5|    4.7952E-4|  88290001|  88290|       R|    814 ROUTE DU BEU|Saulxures-sur-Mos...| 88290001|\n",
      "|             1.61966|     48.79287|  78550009|  78550|       R|22 AVENUE GERARD ...|            MAULETTE| 78550009|\n",
      "|  42.030352853699995|8.84469299783|  20167008|  20167|       R|     gare de Mezzana|   SAROLLA CARCOPINO| 20167008|\n",
      "|            42.13438|      8.59528|  20130002|  20130|       R|Rue de la République|             CARGèSE| 20130002|\n",
      "+--------------------+-------------+----------+-------+--------+--------------------+--------------------+---------+\n",
      "only showing top 7 rows\n",
      "\n"
     ]
    }
   ],
   "source": [
    "stations_df.show(7)"
   ]
  },
  {
   "cell_type": "code",
   "execution_count": 43,
   "metadata": {},
   "outputs": [
    {
     "data": {
      "text/plain": [
       "18103"
      ]
     },
     "execution_count": 43,
     "metadata": {},
     "output_type": "execute_result"
    }
   ],
   "source": [
    "stations_df.count()"
   ]
  },
  {
   "cell_type": "code",
   "execution_count": 34,
   "metadata": {},
   "outputs": [],
   "source": [
    "mapping = stations_df.select('id_station','id_unique')"
   ]
  },
  {
   "cell_type": "markdown",
   "metadata": {},
   "source": [
    "After merging our unique datas, we create a mapping table in order to associate station id with the unique one."
   ]
  },
  {
   "cell_type": "code",
   "execution_count": 36,
   "metadata": {},
   "outputs": [
    {
     "name": "stdout",
     "output_type": "stream",
     "text": [
      "+----------+---------+\n",
      "|id_station|id_unique|\n",
      "+----------+---------+\n",
      "|   8000003|  8000003|\n",
      "|   9600002|  9600002|\n",
      "|  10270005| 10270005|\n",
      "|  12310002| 12310002|\n",
      "|  13010011| 13010011|\n",
      "|  13016005| 13016005|\n",
      "|  14600007| 14600007|\n",
      "|  19250002| 19250002|\n",
      "|  19340001| 19340001|\n",
      "|  20130002| 20130002|\n",
      "|  20167008| 20167008|\n",
      "|  20250001| 20250001|\n",
      "|  22160001| 22160001|\n",
      "|  22410001| 22410001|\n",
      "|  22950003| 22950003|\n",
      "|  23500002| 23500002|\n",
      "|  29150003| 29150003|\n",
      "|  33400004| 33400004|\n",
      "|  33990003| 33990003|\n",
      "|  34000015| 34000015|\n",
      "+----------+---------+\n",
      "only showing top 20 rows\n",
      "\n"
     ]
    }
   ],
   "source": [
    "mapping.show()"
   ]
  },
  {
   "cell_type": "code",
   "execution_count": 35,
   "metadata": {},
   "outputs": [],
   "source": [
    "prix_df = prix_df.join(mapping, on=['id_station'], how='left_outer')"
   ]
  },
  {
   "cell_type": "markdown",
   "metadata": {},
   "source": [
    "# Step 3. "
   ]
  },
  {
   "cell_type": "code",
   "execution_count": 42,
   "metadata": {},
   "outputs": [
    {
     "name": "stdout",
     "output_type": "stream",
     "text": [
      "+----------+-------+--------+-------------+------------------+-------------------+--------+---------+-----+----+-----+----+---------+\n",
      "|id_station|zipcode|type_pop|     latitude|         longitude|               date|gas_type|gas_label|price|year|month|week|id_unique|\n",
      "+----------+-------+--------+-------------+------------------+-------------------+--------+---------+-----+----+-----+----+---------+\n",
      "|   1160005|   1160|       R|46.0533506156|5.3374103671699995|2015-02-18 00:02:00|       1|   Gazole|1.195|2015|    2|   8|  1160005|\n",
      "|   1160005|   1160|       R|46.0533506156|5.3374103671699995|2015-02-19 00:02:00|       1|   Gazole|1.189|2015|    2|   8|  1160005|\n",
      "|   1160005|   1160|       R|46.0533506156|5.3374103671699995|2015-02-20 00:02:00|       1|   Gazole|1.187|2015|    2|   8|  1160005|\n",
      "|   1160005|   1160|       R|46.0533506156|5.3374103671699995|2015-02-25 00:02:00|       1|   Gazole|1.197|2015|    2|   9|  1160005|\n",
      "|   1160005|   1160|       R|46.0533506156|5.3374103671699995|2015-02-27 00:02:00|       1|   Gazole|1.193|2015|    2|   9|  1160005|\n",
      "|   1160005|   1160|       R|46.0533506156|5.3374103671699995|2015-02-28 00:02:00|       1|   Gazole|1.197|2015|    2|   9|  1160005|\n",
      "|   1160005|   1160|       R|46.0533506156|5.3374103671699995|2015-03-03 00:03:00|       1|   Gazole|1.199|2015|    3|  10|  1160005|\n",
      "|   1160005|   1160|       R|46.0533506156|5.3374103671699995|2015-03-04 00:03:00|       1|   Gazole|1.204|2015|    3|  10|  1160005|\n",
      "|   1160005|   1160|       R|46.0533506156|5.3374103671699995|2015-03-07 00:03:00|       1|   Gazole|1.202|2015|    3|  10|  1160005|\n",
      "|   1160005|   1160|       R|46.0533506156|5.3374103671699995|2015-03-10 00:03:00|       1|   Gazole|1.203|2015|    3|  11|  1160005|\n",
      "|   1160005|   1160|       R|46.0533506156|5.3374103671699995|2015-03-11 00:03:00|       1|   Gazole|1.207|2015|    3|  11|  1160005|\n",
      "|   1160005|   1160|       R|46.0533506156|5.3374103671699995|2015-03-12 00:03:00|       1|   Gazole|1.209|2015|    3|  11|  1160005|\n",
      "|   1160005|   1160|       R|46.0533506156|5.3374103671699995|2015-03-13 00:03:00|       1|   Gazole|1.199|2015|    3|  11|  1160005|\n",
      "|   1160005|   1160|       R|46.0533506156|5.3374103671699995|2015-03-17 00:03:00|       1|   Gazole|1.187|2015|    3|  12|  1160005|\n",
      "|   1160005|   1160|       R|46.0533506156|5.3374103671699995|2015-03-18 00:03:00|       1|   Gazole|1.182|2015|    3|  12|  1160005|\n",
      "|   1160005|   1160|       R|46.0533506156|5.3374103671699995|2015-03-19 00:03:00|       1|   Gazole|1.168|2015|    3|  12|  1160005|\n",
      "|   1160005|   1160|       R|46.0533506156|5.3374103671699995|2015-03-20 00:03:00|       1|   Gazole|1.169|2015|    3|  12|  1160005|\n",
      "|   1160005|   1160|       R|46.0533506156|5.3374103671699995|2015-03-21 00:03:00|       1|   Gazole|1.174|2015|    3|  12|  1160005|\n",
      "|   1160005|   1160|       R|46.0533506156|5.3374103671699995|2015-03-24 00:03:00|       1|   Gazole|1.177|2015|    3|  13|  1160005|\n",
      "|   1160005|   1160|       R|46.0533506156|5.3374103671699995|2015-03-25 00:03:00|       1|   Gazole|1.175|2015|    3|  13|  1160005|\n",
      "+----------+-------+--------+-------------+------------------+-------------------+--------+---------+-----+----+-----+----+---------+\n",
      "only showing top 20 rows\n",
      "\n"
     ]
    }
   ],
   "source": [
    "prix_df.show()"
   ]
  },
  {
   "cell_type": "code",
   "execution_count": 36,
   "metadata": {},
   "outputs": [],
   "source": [
    "prix_df = prix_df.withColumn(\"daily_date\", date_format(to_date(\"date\", \"yyyy-MM-dd\"), \"yyyy-MM-dd\"))"
   ]
  },
  {
   "cell_type": "markdown",
   "metadata": {},
   "source": [
    "We compute mean of prices for the future graphics and to compute the price index."
   ]
  },
  {
   "cell_type": "code",
   "execution_count": 37,
   "metadata": {},
   "outputs": [],
   "source": [
    "pnew_df = prix_df.groupBy(['daily_date','gas_label']).agg({'price' : 'mean'})"
   ]
  },
  {
   "cell_type": "code",
   "execution_count": 38,
   "metadata": {},
   "outputs": [],
   "source": [
    "pnew_df = pnew_df.select(pyspark.sql.functions.col(\"daily_date\").alias(\"daily_date\"), pyspark.sql.functions.col(\"gas_label\").alias(\"gas_label\"), \n",
    "                        pyspark.sql.functions.col(\"avg(price)\").alias(\"mean_price\"))"
   ]
  },
  {
   "cell_type": "code",
   "execution_count": 46,
   "metadata": {},
   "outputs": [
    {
     "name": "stdout",
     "output_type": "stream",
     "text": [
      "+----------+---------+------------------+\n",
      "|daily_date|gas_label|        mean_price|\n",
      "+----------+---------+------------------+\n",
      "|2015-07-10|   Gazole|1.1871879743140685|\n",
      "|2015-10-07|   Gazole|1.1157571853320125|\n",
      "|2015-10-31|   Gazole|1.0956578680203046|\n",
      "|2015-11-10|   Gazole|1.1171693379790935|\n",
      "|2015-10-03|      E10| 1.288248508946322|\n",
      "+----------+---------+------------------+\n",
      "only showing top 5 rows\n",
      "\n"
     ]
    }
   ],
   "source": [
    "pnew_df.show(5)"
   ]
  },
  {
   "cell_type": "code",
   "execution_count": 39,
   "metadata": {},
   "outputs": [],
   "source": [
    "prix_df = prix_df.join(pnew_df, on=['daily_date','gas_label'], how='left_outer')"
   ]
  },
  {
   "cell_type": "code",
   "execution_count": 40,
   "metadata": {},
   "outputs": [],
   "source": [
    "prix_df = prix_df.withColumn(\"price_index\", ((((prix_df.price - prix_df.mean_price)/prix_df.mean_price))+1)*100)"
   ]
  },
  {
   "cell_type": "code",
   "execution_count": 41,
   "metadata": {},
   "outputs": [],
   "source": [
    "prix_df.createOrReplaceTempView(\"prix_df\")"
   ]
  },
  {
   "cell_type": "code",
   "execution_count": 42,
   "metadata": {},
   "outputs": [],
   "source": [
    "pnew_df=spark.sql(\n",
    "    'SELECT distinct gas_label, daily_date, mean_price '\n",
    "    'FROM prix_df '\n",
    "    'WHERE gas_label is not null '\n",
    "    'ORDER BY daily_date, gas_label '\n",
    ").toPandas()"
   ]
  },
  {
   "cell_type": "code",
   "execution_count": 44,
   "metadata": {},
   "outputs": [
    {
     "name": "stdout",
     "output_type": "stream",
     "text": [
      "+----------+---------+----------+-------+--------+-------------+----------------+-------------------+--------+-----+----+-----+----+---------+------------------+------------------+\n",
      "|daily_date|gas_label|id_station|zipcode|type_pop|     latitude|       longitude|               date|gas_type|price|year|month|week|id_unique|        mean_price|       price_index|\n",
      "+----------+---------+----------+-------+--------+-------------+----------------+-------------------+--------+-----+----+-----+----+---------+------------------+------------------+\n",
      "|2015-04-27|     SP98|   6530004|   6530|       R|     43.64368|         6.88271|2015-04-27 06:04:00|       6| 1.58|2015|    4|  18|  6530004|1.4845123885034692|  106.432254269888|\n",
      "|2015-04-27|     SP98|  27110002|  27110|       R|     49.14881|0.91934000000001|2015-04-27 09:04:57|       6|1.439|2015|    4|  18| 27110002|1.4845123885034692|  96.9341860090942|\n",
      "|2015-04-27|     SP98|  27110002|  27110|       R|     49.14881|0.91934000000001|2015-04-27 09:04:57|       6|1.439|2015|    4|  18| 27110002|1.4845123885034692|  96.9341860090942|\n",
      "|2015-04-27|     SP98|  27110002|  27110|       R|     49.14881|0.91934000000001|2015-04-27 09:04:57|       6|1.439|2015|    4|  18| 27110002|1.4845123885034692|  96.9341860090942|\n",
      "|2015-04-27|     SP98|  17200008|  17200|       R|     45.62357|        -1.01317|2015-04-27 00:04:00|       6|1.444|2015|    4|  18| 17200008|1.4845123885034692| 97.27099694032802|\n",
      "|2015-04-27|     SP98|  18400001|  18400|       R|     47.00517|         2.26676|2015-04-27 10:04:43|       6|1.442|2015|    4|  18| 18400001|1.4845123885034692|  97.1362725678345|\n",
      "|2015-04-27|     SP98|  18400001|  18400|       R|     47.00517|         2.26676|2015-04-27 10:04:43|       6|1.442|2015|    4|  18| 18400001|1.4845123885034692|  97.1362725678345|\n",
      "|2015-04-27|     SP98|  28500007|  28500|       R|48.7479334533|   1.27127462769|2015-04-27 10:04:00|       6|1.497|2015|    4|  18| 28500007|1.4845123885034692|100.84119281140656|\n",
      "|2015-04-27|     SP98|  28500007|  28500|       R|48.7479334533|   1.27127462769|2015-04-27 10:04:00|       6|1.497|2015|    4|  18| 28500007|1.4845123885034692|100.84119281140656|\n",
      "|2015-04-27|     SP98|  13015018|  13015|       R|     43.32823|         5.36579|2015-04-27 00:04:00|       6|1.453|2015|    4|  18| 13015018|1.4845123885034692| 97.87725661654892|\n",
      "+----------+---------+----------+-------+--------+-------------+----------------+-------------------+--------+-----+----+-----+----+---------+------------------+------------------+\n",
      "only showing top 10 rows\n",
      "\n"
     ]
    }
   ],
   "source": [
    "prix_df.show(10)"
   ]
  },
  {
   "cell_type": "code",
   "execution_count": 44,
   "metadata": {},
   "outputs": [
    {
     "data": {
      "text/plain": [
       "<seaborn.axisgrid.FacetGrid at 0x21dd12cc550>"
      ]
     },
     "execution_count": 44,
     "metadata": {},
     "output_type": "execute_result"
    },
    {
     "data": {
      "image/png": "[encoded data removed]",
      "text/plain": [
       "<matplotlib.figure.Figure at 0x21dc9bd5438>"
      ]
     },
     "metadata": {},
     "output_type": "display_data"
    }
   ],
   "source": [
    "graph = sns.FacetGrid(pnew_df.sort_values(by=['gas_label', 'daily_date']), hue='gas_label', size=8, aspect=16/9)\n",
    "graph.map(plt.plot, \"daily_date\", \"mean_price\")\n",
    "graph.add_legend()"
   ]
  },
  {
   "cell_type": "code",
   "execution_count": 43,
   "metadata": {},
   "outputs": [],
   "source": [
    "prix_df1=spark.sql(\n",
    "    'SELECT distinct gas_label, daily_date, mean_price, price, id_unique, type_pop, gas_type, price_index, latitude, longitude '\n",
    "    'FROM prix_df '\n",
    "    'WHERE gas_label is not null AND gas_label=\"SP98\" AND id_unique=6530004 '\n",
    "    'ORDER BY daily_date, gas_label '\n",
    "    \n",
    ").dropna().cache()"
   ]
  },
  {
   "cell_type": "markdown",
   "metadata": {},
   "source": [
    "After selecting exactly what is wanted in a new table we compute lag variables."
   ]
  },
  {
   "cell_type": "code",
   "execution_count": 44,
   "metadata": {},
   "outputs": [],
   "source": [
    "from pyspark.sql.window import Window"
   ]
  },
  {
   "cell_type": "code",
   "execution_count": 45,
   "metadata": {},
   "outputs": [],
   "source": [
    "partition = Window.partitionBy().orderBy(\"id_unique\",\"gas_label\",\"daily_date\")"
   ]
  },
  {
   "cell_type": "code",
   "execution_count": 46,
   "metadata": {},
   "outputs": [],
   "source": [
    "prix_df1=prix_df1.withColumn(\"price1\", pyspark.sql.functions.lag(prix_df.price).over(partition))"
   ]
  },
  {
   "cell_type": "code",
   "execution_count": 47,
   "metadata": {},
   "outputs": [],
   "source": [
    "prix_df1=prix_df1.withColumn(\"price2\", pyspark.sql.functions.lag(prix_df1.price1).over(partition))"
   ]
  },
  {
   "cell_type": "code",
   "execution_count": 48,
   "metadata": {},
   "outputs": [],
   "source": [
    "prix_df1=prix_df1.withColumn(\"price3\", pyspark.sql.functions.lag(prix_df1.price2).over(partition))"
   ]
  },
  {
   "cell_type": "code",
   "execution_count": 49,
   "metadata": {},
   "outputs": [],
   "source": [
    "prix_df1=prix_df1.withColumn(\"price4\", pyspark.sql.functions.lag(prix_df1.price3).over(partition))"
   ]
  },
  {
   "cell_type": "code",
   "execution_count": 50,
   "metadata": {},
   "outputs": [],
   "source": [
    "prix_df1=prix_df1.withColumn(\"price5\", pyspark.sql.functions.lag(prix_df1.price4).over(partition))"
   ]
  },
  {
   "cell_type": "code",
   "execution_count": 51,
   "metadata": {},
   "outputs": [],
   "source": [
    "prix_df1=prix_df1.withColumn(\"price6\", pyspark.sql.functions.lag(prix_df1.price5).over(partition))"
   ]
  },
  {
   "cell_type": "code",
   "execution_count": 52,
   "metadata": {},
   "outputs": [],
   "source": [
    "prix_df1=prix_df1.withColumn(\"price7\", pyspark.sql.functions.lag(prix_df1.price6).over(partition))"
   ]
  },
  {
   "cell_type": "code",
   "execution_count": 53,
   "metadata": {},
   "outputs": [],
   "source": [
    "prix_df1=prix_df1.withColumn(\"price8\", pyspark.sql.functions.lag(prix_df1.price7).over(partition))"
   ]
  },
  {
   "cell_type": "code",
   "execution_count": 54,
   "metadata": {},
   "outputs": [],
   "source": [
    "prix_df1=prix_df1.withColumn(\"price9\", pyspark.sql.functions.lag(prix_df1.price8).over(partition))"
   ]
  },
  {
   "cell_type": "code",
   "execution_count": 55,
   "metadata": {},
   "outputs": [],
   "source": [
    "prix_df1=prix_df1.withColumn(\"price10\", pyspark.sql.functions.lag(prix_df1.price9).over(partition))"
   ]
  },
  {
   "cell_type": "code",
   "execution_count": 56,
   "metadata": {},
   "outputs": [],
   "source": [
    "prix_df1=prix_df1.withColumn(\"price11\", pyspark.sql.functions.lag(prix_df1.price10).over(partition))"
   ]
  },
  {
   "cell_type": "code",
   "execution_count": 57,
   "metadata": {},
   "outputs": [
    {
     "name": "stdout",
     "output_type": "stream",
     "text": [
      "root\n",
      " |-- gas_label: string (nullable = true)\n",
      " |-- daily_date: string (nullable = true)\n",
      " |-- mean_price: double (nullable = true)\n",
      " |-- price: double (nullable = true)\n",
      " |-- id_unique: integer (nullable = true)\n",
      " |-- type_pop: string (nullable = true)\n",
      " |-- gas_type: integer (nullable = true)\n",
      " |-- price_index: double (nullable = true)\n",
      " |-- latitude: double (nullable = true)\n",
      " |-- longitude: double (nullable = true)\n",
      " |-- price1: double (nullable = true)\n",
      " |-- price2: double (nullable = true)\n",
      " |-- price3: double (nullable = true)\n",
      " |-- price4: double (nullable = true)\n",
      " |-- price5: double (nullable = true)\n",
      " |-- price6: double (nullable = true)\n",
      " |-- price7: double (nullable = true)\n",
      " |-- price8: double (nullable = true)\n",
      " |-- price9: double (nullable = true)\n",
      " |-- price10: double (nullable = true)\n",
      " |-- price11: double (nullable = true)\n",
      "\n"
     ]
    }
   ],
   "source": [
    "prix_df1.printSchema()"
   ]
  },
  {
   "cell_type": "markdown",
   "metadata": {},
   "source": [
    "# Linear regression. #"
   ]
  },
  {
   "cell_type": "code",
   "execution_count": 58,
   "metadata": {},
   "outputs": [],
   "source": [
    "from sklearn.model_selection import train_test_split\n",
    "from pyspark.ml.feature import VectorAssembler\n",
    "from pyspark.ml.regression import LinearRegression\n",
    "from pyspark.ml import Pipeline\n",
    "from pyspark.ml.feature import StandardScaler"
   ]
  },
  {
   "cell_type": "markdown",
   "metadata": {},
   "source": [
    "For the linear regression we create a vector of lag variables which is our explanatory one.  "
   ]
  },
  {
   "cell_type": "code",
   "execution_count": 106,
   "metadata": {},
   "outputs": [],
   "source": [
    "vectorAssembler = VectorAssembler(inputCols = [\"price1\", \"price2\", \"price3\", \"price4\", \"price5\", \"price6\", \"price7\", \"price8\", \"price9\", \"price10\",\"price11\"], outputCol = 'features')"
   ]
  },
  {
   "cell_type": "code",
   "execution_count": 107,
   "metadata": {},
   "outputs": [],
   "source": [
    "vprix_df1 = vectorAssembler.transform(prix_df1)"
   ]
  },
  {
   "cell_type": "code",
   "execution_count": 108,
   "metadata": {},
   "outputs": [],
   "source": [
    "vprix_df1 = vprix_df1.select(['features', 'price'])"
   ]
  },
  {
   "cell_type": "code",
   "execution_count": 108,
   "metadata": {},
   "outputs": [],
   "source": [
    "vprix_df1.show(3)"
   ]
  },
  {
   "cell_type": "markdown",
   "metadata": {},
   "source": [
    "We select our train and test samples."
   ]
  },
  {
   "cell_type": "code",
   "execution_count": 109,
   "metadata": {},
   "outputs": [],
   "source": [
    "splits = vprix_df1.randomSplit([0.7, 0.3])"
   ]
  },
  {
   "cell_type": "code",
   "execution_count": 110,
   "metadata": {},
   "outputs": [],
   "source": [
    "train_df = splits[0]"
   ]
  },
  {
   "cell_type": "code",
   "execution_count": 111,
   "metadata": {},
   "outputs": [],
   "source": [
    "test_df = splits[1]"
   ]
  },
  {
   "cell_type": "code",
   "execution_count": 112,
   "metadata": {},
   "outputs": [],
   "source": [
    "lr = LinearRegression(featuresCol = 'features', labelCol='price', maxIter=10, regParam=0.3, elasticNetParam=0.8)"
   ]
  },
  {
   "cell_type": "code",
   "execution_count": 115,
   "metadata": {},
   "outputs": [],
   "source": [
    "lr_model = lr.fit(train_df)"
   ]
  },
  {
   "cell_type": "markdown",
   "metadata": {},
   "source": [
    "We represent our predictions."
   ]
  },
  {
   "cell_type": "code",
   "execution_count": null,
   "metadata": {},
   "outputs": [],
   "source": [
    "print(\"Coefficients: \" + str(lr_model.coefficients))\n",
    "print(\"Intercept: \" + str(lr_model.intercept))"
   ]
  },
  {
   "cell_type": "code",
   "execution_count": null,
   "metadata": {},
   "outputs": [],
   "source": [
    "trainingSummary = lr_model.summary\n",
    "print(\"RMSE: %f\" % trainingSummary.rootMeanSquaredError)\n",
    "print(\"r2: %f\" % trainingSummary.r2)"
   ]
  },
  {
   "cell_type": "code",
   "execution_count": null,
   "metadata": {},
   "outputs": [],
   "source": [
    "train_df.describe().show()"
   ]
  },
  {
   "cell_type": "code",
   "execution_count": null,
   "metadata": {},
   "outputs": [],
   "source": [
    "lr_predictions = lr_model.transform(test_df)\n",
    "lr_predictions.select(\"prediction\",\"price\",\"features\").show(5)\n",
    "from pyspark.ml.evaluation import RegressionEvaluator\n",
    "lr_evaluator = RegressionEvaluator(predictionCol=\"prediction\", \\\n",
    "                 labelCol=\"price\",metricName=\"r2\")\n",
    "print(\"R Squared (R2) on test data = %g\" % lr_evaluator.evaluate(lr_predictions))"
   ]
  },
  {
   "cell_type": "code",
   "execution_count": null,
   "metadata": {},
   "outputs": [],
   "source": [
    "test_result = lr_model.evaluate(test_df)\n",
    "print(\"Root Mean Squared Error (RMSE) on test data = %g\" % test_result.rootMeanSquaredError)"
   ]
  },
  {
   "cell_type": "code",
   "execution_count": null,
   "metadata": {},
   "outputs": [],
   "source": [
    "print(\"numIterations: %d\" % trainingSummary.totalIterations)\n",
    "print(\"objectiveHistory: %s\" % str(trainingSummary.objectiveHistory))\n",
    "trainingSummary.residuals.show()"
   ]
  },
  {
   "cell_type": "code",
   "execution_count": null,
   "metadata": {},
   "outputs": [],
   "source": [
    "predictions = lr_model.transform(test_df)\n",
    "predictions.select(\"prediction\",\"price\",\"features\").show()"
   ]
  },
  {
   "cell_type": "markdown",
   "metadata": {},
   "source": [
    "# Random forest regression. #"
   ]
  },
  {
   "cell_type": "code",
   "execution_count": null,
   "metadata": {},
   "outputs": [],
   "source": [
    "from pyspark.ml import Pipeline\n",
    "from pyspark.ml.regression import RandomForestRegressor\n",
    "from pyspark.ml.feature import VectorIndexer\n",
    "from pyspark.ml.evaluation import RegressionEvaluator"
   ]
  },
  {
   "cell_type": "code",
   "execution_count": 48,
   "metadata": {},
   "outputs": [],
   "source": [
    "(trainingData, testData) = df2.randomSplit([0.7, 0.3])"
   ]
  },
  {
   "cell_type": "code",
   "execution_count": 49,
   "metadata": {},
   "outputs": [],
   "source": [
    "rf = RandomForestRegressor(featuresCol = 'features', labelCol='price')"
   ]
  },
  {
   "cell_type": "code",
   "execution_count": null,
   "metadata": {},
   "outputs": [],
   "source": [
    "pipeline = Pipeline(stages=[featureIndexer, rf])"
   ]
  },
  {
   "cell_type": "code",
   "execution_count": null,
   "metadata": {},
   "outputs": [],
   "source": [
    "model = pipeline.fit(trainingData)"
   ]
  },
  {
   "cell_type": "code",
   "execution_count": 136,
   "metadata": {},
   "outputs": [],
   "source": [
    "predictions = model.transform(testData)"
   ]
  },
  {
   "cell_type": "code",
   "execution_count": null,
   "metadata": {},
   "outputs": [],
   "source": [
    "evaluator = RegressionEvaluator(\n",
    "    labelCol=\"label\", predictionCol=\"prediction\", metricName=\"rmse\")\n",
    "rmse = evaluator.evaluate(predictions)\n",
    "print(\"Root Mean Squared Error (RMSE) on test data = %g\" % rmse)"
   ]
  },
  {
   "cell_type": "markdown",
   "metadata": {},
   "source": [
    "# Bonus question (downloading files from GitHub)."
   ]
  },
  {
   "cell_type": "code",
   "execution_count": null,
   "metadata": {},
   "outputs": [],
   "source": [
    "import urllib.request"
   ]
  },
  {
   "cell_type": "code",
   "execution_count": null,
   "metadata": {},
   "outputs": [],
   "source": [
    "url = 'https://github.com/rvm-course/GasPrices/blob/master/Prix2007.zip'"
   ]
  },
  {
   "cell_type": "code",
   "execution_count": null,
   "metadata": {},
   "outputs": [],
   "source": [
    "urllib.request.urlretrieve(url, 'chemin de destination')"
   ]
  }
 ],
 "metadata": {
  "kernelspec": {
   "display_name": "Python 3",
   "language": "python",
   "name": "python3"
  },
  "language_info": {
   "codemirror_mode": {
    "name": "ipython",
    "version": 3
   },
   "file_extension": ".py",
   "mimetype": "text/x-python",
   "name": "python",
   "nbconvert_exporter": "python",
   "pygments_lexer": "ipython3",
   "version": "3.6.4"
  }
 },
 "nbformat": 4,
 "nbformat_minor": 2
}
